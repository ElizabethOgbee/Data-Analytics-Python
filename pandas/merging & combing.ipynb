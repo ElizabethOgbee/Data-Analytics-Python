{
 "cells": [
  {
   "cell_type": "markdown",
   "id": "ca0d553e",
   "metadata": {},
   "source": [
    "MERGING AND JOINING.\n",
    "This is used in combining rows from two dataframe based on a common column/key (like id, user_id, etc)"
   ]
  },
  {
   "cell_type": "code",
   "execution_count": null,
   "id": "feb86efe",
   "metadata": {},
   "outputs": [
    {
     "name": "stdout",
     "output_type": "stream",
     "text": [
      "  Branch        City Manager\n",
      "0      A       Lagos   Tunde\n",
      "1      B       Abuja  Chioma\n",
      "2      C  Portharcut   Emeka\n",
      "  Product_Identifier Supermarket_Identifier Product_Supermarket_Identifier  \\\n",
      "0              DRA12            CHUKWUDI010              DRA12_CHUKWUDI010   \n",
      "1              DRA12            CHUKWUDI013              DRA12_CHUKWUDI013   \n",
      "2              DRA12            CHUKWUDI017              DRA12_CHUKWUDI017   \n",
      "3              DRA12            CHUKWUDI018              DRA12_CHUKWUDI018   \n",
      "4              DRA12            CHUKWUDI035              DRA12_CHUKWUDI035   \n",
      "\n",
      "   Product_Weight Product_Fat_Content  Product_Shelf_Visibility Product_Type  \\\n",
      "0            11.6             Low Fat                  0.068535  Soft Drinks   \n",
      "1            11.6             Low Fat                  0.040912  Soft Drinks   \n",
      "2            11.6             Low Fat                  0.041178  Soft Drinks   \n",
      "3            11.6             Low Fat                  0.041113  Soft Drinks   \n",
      "4            11.6       Ultra Low fat                  0.000000  Soft Drinks   \n",
      "\n",
      "   Product_Price  Supermarket_Opening_Year Supermarket_Size  \\\n",
      "0         357.54                      2005              NaN   \n",
      "1         355.79                      1994             High   \n",
      "2         350.79                      2014              NaN   \n",
      "3         355.04                      2016           Medium   \n",
      "4         354.79                      2011            Small   \n",
      "\n",
      "  Supermarket_Location_Type   Supermarket_Type  Product_Supermarket_Sales  \n",
      "0                 Cluster 3      Grocery Store                     709.08  \n",
      "1                 Cluster 3  Supermarket Type1                    6381.69  \n",
      "2                 Cluster 2  Supermarket Type1                    6381.69  \n",
      "3                 Cluster 3  Supermarket Type2                    2127.23  \n",
      "4                 Cluster 2  Supermarket Type1                    2481.77  \n"
     ]
    }
   ],
   "source": [
    "# 1. pd.merge();: like SQL JOINS (on keys)\n",
    "#  commonly used in column/key (like id, user_id, etc)#\n",
    "import pandas as pd\n",
    "\n",
    "#LOAD BOTH CVS\n",
    "supmkt_df = pd.read_csv('supmkt.csv')\n",
    "supmket_df = pd.read_csv('supmket.csv')\n",
    "\n",
    "print(supmket_df.head())\n",
    "print(supmkt_df.head())"
   ]
  },
  {
   "cell_type": "code",
   "execution_count": 8,
   "id": "a897883f",
   "metadata": {},
   "outputs": [
    {
     "ename": "KeyError",
     "evalue": "'Branch'",
     "output_type": "error",
     "traceback": [
      "\u001b[31m---------------------------------------------------------------------------\u001b[39m",
      "\u001b[31mKeyError\u001b[39m                                  Traceback (most recent call last)",
      "\u001b[32m~\\AppData\\Local\\Temp\\ipykernel_21796\\3159218681.py\u001b[39m in \u001b[36m?\u001b[39m\u001b[34m()\u001b[39m\n\u001b[32m      1\u001b[39m \u001b[38;5;66;03m# 1. pd.merge();: like SQL JOINS (on keys)\u001b[39;00m\n\u001b[32m      2\u001b[39m \u001b[38;5;66;03m#  commonly used in column/key (like id, user_id, etc)#\u001b[39;00m\n\u001b[32m----> \u001b[39m\u001b[32m3\u001b[39m merged_df = pd.merge(supmkt_df, branch_df, on=\u001b[33m'Branch'\u001b[39m, how=\u001b[33m'left'\u001b[39m)\n\u001b[32m      4\u001b[39m print(merged_df.head())\n",
      "\u001b[32mc:\\Users\\Ititi\\data-analytics\\pandas\\.venv\\Lib\\site-packages\\pandas\\core\\reshape\\merge.py\u001b[39m in \u001b[36m?\u001b[39m\u001b[34m(left, right, how, on, left_on, right_on, left_index, right_index, sort, suffixes, copy, indicator, validate)\u001b[39m\n\u001b[32m    166\u001b[39m             validate=validate,\n\u001b[32m    167\u001b[39m             copy=copy,\n\u001b[32m    168\u001b[39m         )\n\u001b[32m    169\u001b[39m     \u001b[38;5;28;01melse\u001b[39;00m:\n\u001b[32m--> \u001b[39m\u001b[32m170\u001b[39m         op = _MergeOperation(\n\u001b[32m    171\u001b[39m             left_df,\n\u001b[32m    172\u001b[39m             right_df,\n\u001b[32m    173\u001b[39m             how=how,\n",
      "\u001b[32mc:\\Users\\Ititi\\data-analytics\\pandas\\.venv\\Lib\\site-packages\\pandas\\core\\reshape\\merge.py\u001b[39m in \u001b[36m?\u001b[39m\u001b[34m(self, left, right, how, on, left_on, right_on, left_index, right_index, sort, suffixes, indicator, validate)\u001b[39m\n\u001b[32m    790\u001b[39m             self.right_join_keys,\n\u001b[32m    791\u001b[39m             self.join_names,\n\u001b[32m    792\u001b[39m             left_drop,\n\u001b[32m    793\u001b[39m             right_drop,\n\u001b[32m--> \u001b[39m\u001b[32m794\u001b[39m         ) = self._get_merge_keys()\n\u001b[32m    795\u001b[39m \n\u001b[32m    796\u001b[39m         \u001b[38;5;28;01mif\u001b[39;00m left_drop:\n\u001b[32m    797\u001b[39m             self.left = self.left._drop_labels_or_levels(left_drop)\n",
      "\u001b[32mc:\\Users\\Ititi\\data-analytics\\pandas\\.venv\\Lib\\site-packages\\pandas\\core\\reshape\\merge.py\u001b[39m in \u001b[36m?\u001b[39m\u001b[34m(self)\u001b[39m\n\u001b[32m   1307\u001b[39m                     \u001b[38;5;28;01mif\u001b[39;00m lk \u001b[38;5;28;01mis\u001b[39;00m \u001b[38;5;28;01mnot\u001b[39;00m \u001b[38;5;28;01mNone\u001b[39;00m:\n\u001b[32m   1308\u001b[39m                         \u001b[38;5;66;03m# Then we're either Hashable or a wrong-length arraylike,\u001b[39;00m\n\u001b[32m   1309\u001b[39m                         \u001b[38;5;66;03m#  the latter of which will raise\u001b[39;00m\n\u001b[32m   1310\u001b[39m                         lk = cast(Hashable, lk)\n\u001b[32m-> \u001b[39m\u001b[32m1311\u001b[39m                         left_keys.append(left._get_label_or_level_values(lk))\n\u001b[32m   1312\u001b[39m                         join_names.append(lk)\n\u001b[32m   1313\u001b[39m                     \u001b[38;5;28;01melse\u001b[39;00m:\n\u001b[32m   1314\u001b[39m                         \u001b[38;5;66;03m# work-around for merge_asof(left_index=True)\u001b[39;00m\n",
      "\u001b[32mc:\\Users\\Ititi\\data-analytics\\pandas\\.venv\\Lib\\site-packages\\pandas\\core\\generic.py\u001b[39m in \u001b[36m?\u001b[39m\u001b[34m(self, key, axis)\u001b[39m\n\u001b[32m   1907\u001b[39m             values = self.xs(key, axis=other_axes[\u001b[32m0\u001b[39m])._values\n\u001b[32m   1908\u001b[39m         \u001b[38;5;28;01melif\u001b[39;00m self._is_level_reference(key, axis=axis):\n\u001b[32m   1909\u001b[39m             values = self.axes[axis].get_level_values(key)._values\n\u001b[32m   1910\u001b[39m         \u001b[38;5;28;01melse\u001b[39;00m:\n\u001b[32m-> \u001b[39m\u001b[32m1911\u001b[39m             \u001b[38;5;28;01mraise\u001b[39;00m KeyError(key)\n\u001b[32m   1912\u001b[39m \n\u001b[32m   1913\u001b[39m         \u001b[38;5;66;03m# Check for duplicates\u001b[39;00m\n\u001b[32m   1914\u001b[39m         \u001b[38;5;28;01mif\u001b[39;00m values.ndim > \u001b[32m1\u001b[39m:\n",
      "\u001b[31mKeyError\u001b[39m: 'Branch'"
     ]
    }
   ],
   "source": [
    "# 1. pd.merge();: like SQL JOINS (on keys)\n",
    "#  commonly used in column/key (like id, user_id, etc)#\n",
    "merged_df = pd.merge(supmkt_df, branch_df, on='Branch', how='left')\n",
    "print(merged_df.head())"
   ]
  },
  {
   "cell_type": "code",
   "execution_count": 5,
   "id": "5701a183",
   "metadata": {},
   "outputs": [
    {
     "name": "stdout",
     "output_type": "stream",
     "text": [
      "branch_df: ['Branch', 'City', 'Manager']\n"
     ]
    }
   ],
   "source": [
    "print('branch_df:', branch_df.columns.tolist())"
   ]
  },
  {
   "cell_type": "code",
   "execution_count": null,
   "id": "5d0fac68",
   "metadata": {},
   "outputs": [],
   "source": []
  }
 ],
 "metadata": {
  "kernelspec": {
   "display_name": ".venv",
   "language": "python",
   "name": "python3"
  },
  "language_info": {
   "codemirror_mode": {
    "name": "ipython",
    "version": 3
   },
   "file_extension": ".py",
   "mimetype": "text/x-python",
   "name": "python",
   "nbconvert_exporter": "python",
   "pygments_lexer": "ipython3",
   "version": "3.13.3"
  }
 },
 "nbformat": 4,
 "nbformat_minor": 5
}
