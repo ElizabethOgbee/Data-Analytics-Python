{
 "cells": [
  {
   "cell_type": "markdown",
   "id": "ca0d553e",
   "metadata": {},
   "source": [
    "MERGING AND JOINING.\n",
    "This is used in combining rows from two dataframe based on a common column/key (like id, user_id, etc)"
   ]
  },
  {
   "cell_type": "code",
   "execution_count": 9,
   "id": "feb86efe",
   "metadata": {},
   "outputs": [
    {
     "name": "stdout",
     "output_type": "stream",
     "text": [
      "  Product_Identifier Supermarket_Identifier Product_Supermarket_Identifier  \\\n",
      "0              DRA12            CHUKWUDI010              DRA12_CHUKWUDI010   \n",
      "1              DRA12            CHUKWUDI013              DRA12_CHUKWUDI013   \n",
      "2              DRA12            CHUKWUDI017              DRA12_CHUKWUDI017   \n",
      "3              DRA12            CHUKWUDI018              DRA12_CHUKWUDI018   \n",
      "4              DRA12            CHUKWUDI035              DRA12_CHUKWUDI035   \n",
      "\n",
      "   Product_Weight Product_Fat_Content  Product_Shelf_Visibility Product_Type  \\\n",
      "0            11.6             Low Fat                  0.068535  Soft Drinks   \n",
      "1            11.6             Low Fat                  0.040912  Soft Drinks   \n",
      "2            11.6             Low Fat                  0.041178  Soft Drinks   \n",
      "3            11.6             Low Fat                  0.041113  Soft Drinks   \n",
      "4            11.6       Ultra Low fat                  0.000000  Soft Drinks   \n",
      "\n",
      "   Product_Price  Supermarket_Opening_Year Supermarket_Size  \\\n",
      "0         357.54                      2005              NaN   \n",
      "1         355.79                      1994             High   \n",
      "2         350.79                      2014              NaN   \n",
      "3         355.04                      2016           Medium   \n",
      "4         354.79                      2011            Small   \n",
      "\n",
      "  Supermarket_Location_Type   Supermarket_Type  Product_Supermarket_Sales  \n",
      "0                 Cluster 3      Grocery Store                     709.08  \n",
      "1                 Cluster 3  Supermarket Type1                    6381.69  \n",
      "2                 Cluster 2  Supermarket Type1                    6381.69  \n",
      "3                 Cluster 3  Supermarket Type2                    2127.23  \n",
      "4                 Cluster 2  Supermarket Type1                    2481.77  \n",
      "  Product_Identifier Supermarket_Identifier Product_Supermarket_Identifier  \\\n",
      "0              DRA12            CHUKWUDI010              DRA12_CHUKWUDI010   \n",
      "1              DRA12            CHUKWUDI013              DRA12_CHUKWUDI013   \n",
      "2              DRA12            CHUKWUDI017              DRA12_CHUKWUDI017   \n",
      "3              DRA12            CHUKWUDI018              DRA12_CHUKWUDI018   \n",
      "4              DRA12            CHUKWUDI035              DRA12_CHUKWUDI035   \n",
      "\n",
      "   Product_Weight Product_Fat_Content  Product_Shelf_Visibility Product_Type  \\\n",
      "0            11.6             Low Fat                  0.068535  Soft Drinks   \n",
      "1            11.6             Low Fat                  0.040912  Soft Drinks   \n",
      "2            11.6             Low Fat                  0.041178  Soft Drinks   \n",
      "3            11.6             Low Fat                  0.041113  Soft Drinks   \n",
      "4            11.6       Ultra Low fat                  0.000000  Soft Drinks   \n",
      "\n",
      "   Product_Price  Supermarket_Opening_Year Supermarket_Size  \\\n",
      "0         357.54                      2005              NaN   \n",
      "1         355.79                      1994             High   \n",
      "2         350.79                      2014              NaN   \n",
      "3         355.04                      2016           Medium   \n",
      "4         354.79                      2011            Small   \n",
      "\n",
      "  Supermarket_Location_Type   Supermarket_Type  Product_Supermarket_Sales  \n",
      "0                 Cluster 3      Grocery Store                     709.08  \n",
      "1                 Cluster 3  Supermarket Type1                    6381.69  \n",
      "2                 Cluster 2  Supermarket Type1                    6381.69  \n",
      "3                 Cluster 3  Supermarket Type2                    2127.23  \n",
      "4                 Cluster 2  Supermarket Type1                    2481.77  \n"
     ]
    }
   ],
   "source": [
    "# 1. pd.merge();: like SQL JOINS (on keys)\n",
    "#  commonly used in column/key (like id, user_id, etc)#\n",
    "import pandas as pd\n",
    "\n",
    "#LOAD BOTH CVS\n",
    "supmkt_df = pd.read_csv('supmkt.csv')\n",
    "supmket_df = pd.read_csv('supmket.csv')\n",
    "\n",
    "print(supmket_df.head())\n",
    "print(supmkt_df.head())"
   ]
  },
  {
   "cell_type": "code",
   "execution_count": 12,
   "id": "a897883f",
   "metadata": {},
   "outputs": [
    {
     "name": "stdout",
     "output_type": "stream",
     "text": [
      "  Product_Identifier_x Supermarket_Identifier_x  \\\n",
      "0                DRA12              CHUKWUDI010   \n",
      "1                DRA12              CHUKWUDI010   \n",
      "2                DRA12              CHUKWUDI010   \n",
      "3                DRA12              CHUKWUDI010   \n",
      "4                DRA12              CHUKWUDI010   \n",
      "\n",
      "  Product_Supermarket_Identifier_x  Product_Weight Product_Fat_Content_x  \\\n",
      "0                DRA12_CHUKWUDI010            11.6               Low Fat   \n",
      "1                DRA12_CHUKWUDI010            11.6               Low Fat   \n",
      "2                DRA12_CHUKWUDI010            11.6               Low Fat   \n",
      "3                DRA12_CHUKWUDI010            11.6               Low Fat   \n",
      "4                DRA12_CHUKWUDI010            11.6               Low Fat   \n",
      "\n",
      "   Product_Shelf_Visibility_x Product_Type_x  Product_Price_x  \\\n",
      "0                    0.068535    Soft Drinks           357.54   \n",
      "1                    0.068535    Soft Drinks           357.54   \n",
      "2                    0.068535    Soft Drinks           357.54   \n",
      "3                    0.068535    Soft Drinks           357.54   \n",
      "4                    0.068535    Soft Drinks           357.54   \n",
      "\n",
      "   Supermarket_Opening_Year_x Supermarket_Size_x  ...  \\\n",
      "0                        2005                NaN  ...   \n",
      "1                        2005                NaN  ...   \n",
      "2                        2005                NaN  ...   \n",
      "3                        2005                NaN  ...   \n",
      "4                        2005                NaN  ...   \n",
      "\n",
      "  Product_Supermarket_Identifier_y Product_Fat_Content_y  \\\n",
      "0                DRA12_CHUKWUDI010               Low Fat   \n",
      "1                DRA12_CHUKWUDI013               Low Fat   \n",
      "2                DRA12_CHUKWUDI017               Low Fat   \n",
      "3                DRA12_CHUKWUDI018               Low Fat   \n",
      "4                DRA12_CHUKWUDI035         Ultra Low fat   \n",
      "\n",
      "   Product_Shelf_Visibility_y Product_Type_y Product_Price_y  \\\n",
      "0                    0.068535    Soft Drinks          357.54   \n",
      "1                    0.040912    Soft Drinks          355.79   \n",
      "2                    0.041178    Soft Drinks          350.79   \n",
      "3                    0.041113    Soft Drinks          355.04   \n",
      "4                    0.000000    Soft Drinks          354.79   \n",
      "\n",
      "  Supermarket_Opening_Year_y Supermarket_Size_y  Supermarket_Location_Type_y  \\\n",
      "0                       2005                NaN                    Cluster 3   \n",
      "1                       1994               High                    Cluster 3   \n",
      "2                       2014                NaN                    Cluster 2   \n",
      "3                       2016             Medium                    Cluster 3   \n",
      "4                       2011              Small                    Cluster 2   \n",
      "\n",
      "  Supermarket_Type_y  Product_Supermarket_Sales_y  \n",
      "0      Grocery Store                       709.08  \n",
      "1  Supermarket Type1                      6381.69  \n",
      "2  Supermarket Type1                      6381.69  \n",
      "3  Supermarket Type2                      2127.23  \n",
      "4  Supermarket Type1                      2481.77  \n",
      "\n",
      "[5 rows x 25 columns]\n"
     ]
    }
   ],
   "source": [
    "# 1. pd.merge();: like SQL JOINS (on keys)\n",
    "#  commonly used in column/key (like id, user_id, etc)#\n",
    "merged_df = pd.merge(supmkt_df, supmket_df, on='Product_Weight', how='left')\n",
    "print(merged_df.head())"
   ]
  },
  {
   "cell_type": "markdown",
   "id": "5701a183",
   "metadata": {},
   "source": [
    "| Merge Type | What it does                                |\n",
    "| ---------- | ------------------------------------------- |\n",
    "| `'inner'`  | Only matching rows (default) ✅              |\n",
    "| `'left'`   | All rows from left file, match if possible  |\n",
    "| `'right'`  | All rows from right file, match if possible |\n",
    "| `'outer'`  | All rows from both, fill missing with `NaN` |\n"
   ]
  },
  {
   "cell_type": "markdown",
   "id": "829b05a5",
   "metadata": {},
   "source": []
  },
  {
   "cell_type": "markdown",
   "id": "2e080fd0",
   "metadata": {},
   "source": [
    "pd.concat()-- STACK ROWS OR COLUMNS"
   ]
  },
  {
   "cell_type": "code",
   "execution_count": null,
   "id": "5d0fac68",
   "metadata": {},
   "outputs": [],
   "source": [
    "#STACKING ROWS(VERTICAL)\n",
    "# Imagine you split and want to recombine male and female sales#\n"
   ]
  }
 ],
 "metadata": {
  "kernelspec": {
   "display_name": ".venv",
   "language": "python",
   "name": "python3"
  },
  "language_info": {
   "codemirror_mode": {
    "name": "ipython",
    "version": 3
   },
   "file_extension": ".py",
   "mimetype": "text/x-python",
   "name": "python",
   "nbconvert_exporter": "python",
   "pygments_lexer": "ipython3",
   "version": "3.13.3"
  }
 },
 "nbformat": 4,
 "nbformat_minor": 5
}
